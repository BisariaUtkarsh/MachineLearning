{
 "cells": [
  {
   "cell_type": "code",
   "execution_count": 19,
   "metadata": {},
   "outputs": [],
   "source": [
    "from statistics import mean\n",
    "import numpy as np\n",
    "from matplotlib import style \n",
    "import matplotlib.pyplot as plt\n",
    "style .use('fivethirtyeight')\n",
    "import random"
   ]
  },
  {
   "cell_type": "code",
   "execution_count": 22,
   "metadata": {},
   "outputs": [],
   "source": [
    "#xs=np.array([1,2,3,4,5,6],dtype=np.float64)\n",
    "#ys=np.array([5,4,6,5,6,7],dtype=np.float64)\n",
    "def create_dataset(hm,variance,step=2,correlation=False):\n",
    "    val=1\n",
    "    ys=[]\n",
    "    for i in range(hm):\n",
    "        y=val+random.randrange(-variance,variance)\n",
    "        ys.append(y)\n",
    "        if correlation and correlation =='pos':\n",
    "            val+=step\n",
    "        elif correlation and correlation =='neg' :\n",
    "            val-=step\n",
    "    xs=[i for i in range(len(ys))]\n",
    "    \n",
    "    return np.array(xs,dtype=np.float64) ,np.array(ys,dtype=np.float64)"
   ]
  },
  {
   "cell_type": "code",
   "execution_count": 24,
   "metadata": {},
   "outputs": [],
   "source": [
    "def best_fit_slope_intercept(xs,ys):\n",
    "    m=( ((mean(xs)*mean(ys))-mean(xs*ys) )/\n",
    "       ((mean(xs)*mean(xs))-mean(xs*xs)) )\n",
    "    b= mean(ys)-m*mean(xs)\n",
    "    return m,b"
   ]
  },
  {
   "cell_type": "code",
   "execution_count": 9,
   "metadata": {},
   "outputs": [],
   "source": [
    "def squared_error (ys_orig,ys_line):\n",
    "    return sum((ys_line-ys_orig)**2)"
   ]
  },
  {
   "cell_type": "code",
   "execution_count": 14,
   "metadata": {},
   "outputs": [],
   "source": [
    "def coefficient_of_detm(ys_orig,ys_line):\n",
    "    y_mean_line=[mean(ys_orig) for y in ys_orig]\n",
    "    sq_error_regr=squared_error (ys_orig,ys_line)\n",
    "    sq_error_y_mean=squared_error (ys_orig,y_mean_line)\n",
    "    return 1-(sq_error_regr/sq_error_y_mean)"
   ]
  },
  {
   "cell_type": "code",
   "execution_count": 45,
   "metadata": {},
   "outputs": [],
   "source": [
    "xs,ys=create_dataset(40,10,2,correlation='pos')\n",
    "m ,b =best_fit_slope_intercept(xs,ys)"
   ]
  },
  {
   "cell_type": "code",
   "execution_count": 46,
   "metadata": {},
   "outputs": [],
   "source": [
    "regression_line=[(m*x)+b for x in xs]"
   ]
  },
  {
   "cell_type": "code",
   "execution_count": 47,
   "metadata": {},
   "outputs": [],
   "source": [
    "predict_x=8\n",
    "predict_y =m*predict_x+b"
   ]
  },
  {
   "cell_type": "code",
   "execution_count": 48,
   "metadata": {},
   "outputs": [
    {
     "name": "stdout",
     "output_type": "stream",
     "text": [
      "0.9517808939830004\n"
     ]
    }
   ],
   "source": [
    "r_squared=coefficient_of_detm(ys,regression_line)\n",
    "print(r_squared)"
   ]
  },
  {
   "cell_type": "code",
   "execution_count": 49,
   "metadata": {
    "scrolled": true
   },
   "outputs": [
    {
     "data": {
      "image/png": "[encoded data removed]",
      "text/plain": [
       "<Figure size 432x288 with 1 Axes>"
      ]
     },
     "metadata": {},
     "output_type": "display_data"
    }
   ],
   "source": [
    "plt.scatter(xs,ys)\n",
    "plt.scatter(predict_x,predict_y,color='g',s=100)\n",
    "plt.plot(xs,regression_line)\n",
    "plt.show()"
   ]
  },
  {
   "cell_type": "code",
   "execution_count": null,
   "metadata": {},
   "outputs": [],
   "source": []
  }
 ],
 "metadata": {
  "kernelspec": {
   "display_name": "Python 3",
   "language": "python",
   "name": "python3"
  },
  "language_info": {
   "codemirror_mode": {
    "name": "ipython",
    "version": 3
   },
   "file_extension": ".py",
   "mimetype": "text/x-python",
   "name": "python",
   "nbconvert_exporter": "python",
   "pygments_lexer": "ipython3",
   "version": "3.6.5"
  }
 },
 "nbformat": 4,
 "nbformat_minor": 2
}
