{
 "cells": [
  {
   "cell_type": "code",
   "execution_count": 22,
   "metadata": {},
   "outputs": [],
   "source": [
    "import pandas as pd\n",
    "import numpy as np\n",
    "import quandl\n",
    "import math\n",
    "import matplotlib.pyplot as plt\n",
    "from sklearn import cross_validation,svm,preprocessing\n",
    "from sklearn.linear_model import LinearRegression\n",
    "import datetime\n",
    "from matplotlib import style\n",
    "import pickle\n",
    "style.use('ggplot')"
   ]
  },
  {
   "cell_type": "code",
   "execution_count": 2,
   "metadata": {},
   "outputs": [],
   "source": [
    "df=quandl.get('WIKI/GOOGL')"
   ]
  },
  {
   "cell_type": "code",
   "execution_count": 4,
   "metadata": {},
   "outputs": [],
   "source": [
    "df=df[['Adj. Open','Adj. High','Adj. Low','Adj. Close','Adj. Volume']]\n",
    "df['HL_PCT']= (df['Adj. High']-df['Adj. Close'])/df['Adj. Close']*100.0\n",
    "df['PCT_change']= (df['Adj. Close']-df['Adj. Open'])/df['Adj. Open']*100.0"
   ]
  },
  {
   "cell_type": "code",
   "execution_count": 5,
   "metadata": {},
   "outputs": [],
   "source": [
    "df=df[['Adj. Close','HL_PCT','PCT_change','Adj. Volume']]"
   ]
  },
  {
   "cell_type": "code",
   "execution_count": 6,
   "metadata": {},
   "outputs": [],
   "source": [
    "forecast_col='Adj. Close'\n",
    "df.fillna(-99999,inplace=True)"
   ]
  },
  {
   "cell_type": "code",
   "execution_count": 7,
   "metadata": {},
   "outputs": [],
   "source": [
    "forecast_out=int(math.ceil(0.01*len(df)))\n",
    "df['label']=df[forecast_col].shift(-forecast_out)"
   ]
  },
  {
   "cell_type": "code",
   "execution_count": 8,
   "metadata": {},
   "outputs": [],
   "source": [
    "X=np.array(df.drop(['label'],1))\n",
    "X=preprocessing.scale(X)\n",
    "X_lately=X[-forecast_out:]\n",
    "X=X[:-forecast_out]\n",
    "df.dropna(inplace=True)\n",
    "y=np.array(df['label'])"
   ]
  },
  {
   "cell_type": "code",
   "execution_count": 9,
   "metadata": {},
   "outputs": [],
   "source": [
    "X_train,X_test,y_train,y_test=cross_validation.train_test_split(X,y,test_size=0.2)\n"
   ]
  },
  {
   "cell_type": "code",
   "execution_count": 40,
   "metadata": {},
   "outputs": [],
   "source": [
    "clf=LinearRegression(n_jobs=-1)\n",
    "#clf=svm.SVR(kernel='poly')\n",
    "clf.fit(X_train,y_train)\n",
    "\n",
    "#saving a classifier - pickling\n",
    "with open('linearregression.pickle','wb') as f:\n",
    "    pickle.dump(clf,f)\n",
    "pickle_in=open('linearregression.pickle','rb')\n",
    "clf = pickle.load(pickle_in)"
   ]
  },
  {
   "cell_type": "code",
   "execution_count": 41,
   "metadata": {},
   "outputs": [
    {
     "name": "stdout",
     "output_type": "stream",
     "text": [
      "[1103.19752738 1073.65626672 1019.86416272 1062.24685854 1074.4559508\n",
      " 1074.62296554 1093.28250599 1112.72464457 1115.71461634 1123.62775385\n",
      " 1132.75760051 1130.56911384 1150.25136805 1165.9467304  1137.27066715\n",
      " 1123.48023482 1088.94737327 1104.39776943 1115.34904486 1122.66787083\n",
      " 1136.35724724 1151.21208793 1182.79783782 1187.20377258 1158.67873106\n",
      " 1170.04567876 1171.84018502 1154.66325385 1120.01939396 1116.47443537\n",
      " 1113.95296224 1071.07872288 1042.80466502 1074.45855006 1021.4882899 ] 0.977327607504003 35\n"
     ]
    }
   ],
   "source": [
    "accuracy=clf.score(X_test,y_test)\n",
    "\n",
    "forecast_set=clf.predict(X_lately)\n",
    "print(forecast_set,accuracy,forecast_out)"
   ]
  },
  {
   "cell_type": "code",
   "execution_count": 20,
   "metadata": {},
   "outputs": [
    {
     "name": "stdout",
     "output_type": "stream",
     "text": [
      "            Adj. Close    HL_PCT  PCT_change  Adj. Volume      label  Forecast\n",
      "Date                                                                          \n",
      "2004-08-19   50.322842  3.712563    0.324968   44659000.0  69.078238       NaN\n",
      "2004-08-20   54.322689  0.710922    7.227007   22834300.0  67.839414       NaN\n",
      "2004-08-23   54.869377  3.729433   -1.227880   18256100.0  68.912727       NaN\n",
      "2004-08-24   52.597363  6.417469   -5.726357   15247300.0  70.668146       NaN\n",
      "2004-08-25   53.164113  1.886792    1.183658    9188600.0  71.219849       NaN\n"
     ]
    },
    {
     "data": {
      "image/png": "[encoded data removed]",
      "text/plain": [
       "<Figure size 432x288 with 1 Axes>"
      ]
     },
     "metadata": {},
     "output_type": "display_data"
    }
   ],
   "source": [
    "df['Forecast']=np.nan\n",
    "\n",
    "last_date=df.iloc[-1].name\n",
    "last_unix=last_date.timestamp()\n",
    "one_day=86400\n",
    "next_unix=last_unix+one_day\n",
    "\n",
    "for i in forecast_set:\n",
    "    next_date=datetime.datetime.fromtimestamp(next_unix)\n",
    "    next_unix+=one_day\n",
    "    df.loc[next_date]=[np.nan for _ in range(len(df.columns)-1)] +[i]\n",
    "\n",
    "print(df.head())    \n",
    "df['Adj. Close'].plot()\n",
    "df['Forecast'].plot()\n",
    "plt.legend(loc=4)\n",
    "plt.xlabel('Date')\n",
    "plt.ylabel('Price')\n",
    "plt.show()"
   ]
  },
  {
   "cell_type": "code",
   "execution_count": null,
   "metadata": {},
   "outputs": [],
   "source": []
  }
 ],
 "metadata": {
  "kernelspec": {
   "display_name": "Python 3",
   "language": "python",
   "name": "python3"
  },
  "language_info": {
   "codemirror_mode": {
    "name": "ipython",
    "version": 3
   },
   "file_extension": ".py",
   "mimetype": "text/x-python",
   "name": "python",
   "nbconvert_exporter": "python",
   "pygments_lexer": "ipython3",
   "version": "3.6.5"
  }
 },
 "nbformat": 4,
 "nbformat_minor": 2
}
