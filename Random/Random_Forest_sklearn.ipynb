{
 "cells": [
  {
   "cell_type": "code",
   "execution_count": 1,
   "metadata": {},
   "outputs": [],
   "source": [
    "import os\n",
    "import numpy as np\n",
    "from collections import Counter\n",
    "from sklearn.naive_bayes import GaussianNB\n",
    "from sklearn.metrics import accuracy_score"
   ]
  },
  {
   "cell_type": "code",
   "execution_count": 2,
   "metadata": {},
   "outputs": [],
   "source": [
    "# make dictionary from training dataset and keep only most common 3000 words\n",
    "\n",
    "def make_dict(root_dir):\n",
    "    all_words = []\n",
    "    emails = [os.path.join(root_dir,f) for f in os.listdir(root_dir)]\n",
    "    for mail in emails:\n",
    "        with open(mail) as m:\n",
    "            for line in m:\n",
    "                words = line.split()\n",
    "                all_words += words;\n",
    "    dictionary = Counter(all_words)\n",
    "    list_to_remove = list(dictionary.keys())\n",
    "    for item in list_to_remove:\n",
    "        if item.isalpha() == False:   # removed if not alphabet\n",
    "            del dictionary[item]\n",
    "        elif len(item) == 1:      # single length character removed\n",
    "            del dictionary[item]\n",
    "    dictionary = dictionary.most_common(3000)  # most common 3000 considered\n",
    "    \n",
    "    return dictionary"
   ]
  },
  {
   "cell_type": "code",
   "execution_count": 3,
   "metadata": {},
   "outputs": [],
   "source": [
    "# make use of make_dict and generate a label and word frequency matrix for each example\n",
    "\n",
    "def extract_features(mail_dir):\n",
    "    files = [os.path.join(mail_dir,fi) for fi in os.listdir(mail_dir)]\n",
    "    features_matrix = np.zeros((len(files),3000))\n",
    "    train_labels = np.zeros(len(files))\n",
    "    count = 0;\n",
    "    docID = 0;\n",
    "    for fil in files:\n",
    "        with open(fil) as fi:\n",
    "            for i,line in enumerate(fi):\n",
    "                if i == 2:\n",
    "                    words = line.split()\n",
    "                    for word in words:\n",
    "                        wordID = 0\n",
    "                        for i,d in enumerate(dictionary):\n",
    "                            if d[0] == word :\n",
    "                                wordD = i\n",
    "                                features_matrix[docID,wordID] = words .count(word)\n",
    "            train_labels[docID] = 0;\n",
    "            filepathTokens = fil.split('/')\n",
    "            lastToken = filepathTokens[len(filepathTokens)-1]\n",
    "            if lastToken.startswith(\"spmsg\"):\n",
    "                train_labels[docID] = 1;\n",
    "                count += 1;\n",
    "            docID += 1\n",
    "    \n",
    "    return features_matrix, train_labels\n",
    "        "
   ]
  },
  {
   "cell_type": "code",
   "execution_count": 4,
   "metadata": {},
   "outputs": [
    {
     "name": "stdout",
     "output_type": "stream",
     "text": [
      "1.0\n"
     ]
    },
    {
     "name": "stderr",
     "output_type": "stream",
     "text": [
      "C:\\Users\\2utka\\Anaconda3\\envs\\DIP\\lib\\site-packages\\sklearn\\ensemble\\forest.py:246: FutureWarning: The default value of n_estimators will change from 10 in version 0.20 to 100 in 0.22.\n",
      "  \"10 in version 0.20 to 100 in 0.22.\", FutureWarning)\n"
     ]
    }
   ],
   "source": [
    "from sklearn.ensemble import RandomForestClassifier\n",
    "TRAIN_DIR = \"./train-mails\"\n",
    "TEST_DIR = \"./test-mails\"\n",
    "dictionary = make_dict(TRAIN_DIR)\n",
    "features_matrix, labels = extract_features(TRAIN_DIR)\n",
    "test_feature_matrix, test_labels = extract_features(TEST_DIR)\n",
    "\n",
    "model = RandomForestClassifier()\n",
    "#train model\n",
    "model.fit(features_matrix, labels)\n",
    "\n",
    "predicted_labels = model.predict(test_feature_matrix)\n",
    "# accuracy\n",
    "print (accuracy_score(test_labels, predicted_labels))"
   ]
  },
  {
   "cell_type": "code",
   "execution_count": null,
   "metadata": {},
   "outputs": [],
   "source": []
  }
 ],
 "metadata": {
  "kernelspec": {
   "display_name": "Python 3",
   "language": "python",
   "name": "python3"
  },
  "language_info": {
   "codemirror_mode": {
    "name": "ipython",
    "version": 3
   },
   "file_extension": ".py",
   "mimetype": "text/x-python",
   "name": "python",
   "nbconvert_exporter": "python",
   "pygments_lexer": "ipython3",
   "version": "3.6.7"
  }
 },
 "nbformat": 4,
 "nbformat_minor": 2
}
