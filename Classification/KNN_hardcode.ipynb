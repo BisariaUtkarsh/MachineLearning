{
 "cells": [
  {
   "cell_type": "code",
   "execution_count": 2,
   "metadata": {},
   "outputs": [],
   "source": [
    "import numpy as np\n",
    "import pandas as pd\n",
    "import matplotlib.pyplot as plt\n",
    "import warnings\n",
    "from matplotlib import style\n",
    "from collections import Counter\n",
    "import random\n",
    "style.use('fivethirtyeight')"
   ]
  },
  {
   "cell_type": "code",
   "execution_count": 3,
   "metadata": {},
   "outputs": [],
   "source": [
    "dataset={'k':[[1,2],[2,3],[3,1]],'r':[[6,5],[7,7],[8,6]]}\n",
    "new_feature=[5,7]"
   ]
  },
  {
   "cell_type": "code",
   "execution_count": 4,
   "metadata": {},
   "outputs": [
    {
     "data": {
      "text/plain": [
       "<function matplotlib.pyplot.show(*args, **kw)>"
      ]
     },
     "execution_count": 4,
     "metadata": {},
     "output_type": "execute_result"
    },
    {
     "data": {
      "image/png": "[encoded data removed]",
      "text/plain": [
       "<Figure size 432x288 with 1 Axes>"
      ]
     },
     "metadata": {},
     "output_type": "display_data"
    }
   ],
   "source": [
    "# [[ plt.scatter(ii[0],ii[1],s=100,color=i)  for ii in dataset[i] ] for i in dataset]\n",
    "for i in dataset :\n",
    "    for ii in dataset[i] :\n",
    "        plt.scatter(ii[0],ii[1],s=100,color=i)\n",
    "plt.scatter(new_feature[0],new_feature[1])\n",
    "plt.show\n",
    "#euclid_dist=sqrt( (f[0]-p[0])**2 + (f[1]-p[1])**2 )"
   ]
  },
  {
   "cell_type": "code",
   "execution_count": 5,
   "metadata": {},
   "outputs": [],
   "source": [
    "def k_N_N(data,predict,k=3):\n",
    "    if len(data)>=k:\n",
    "        warnings.warn('fuck off idiot')\n",
    "    distance=[]\n",
    "    for group in data:\n",
    "        for features in data[group]:\n",
    "            euclid_dist=np.linalg.norm(np.array(features)-np.array(predict))\n",
    "            distance.append([euclid_dist,group])\n",
    "    votes=[i[1] for i in sorted(distance) [:k]]\n",
    "    #print(Counter(votes).most_common(1))\n",
    "    vote_res=Counter(votes).most_common(1)[0][0]\n",
    "    confidence=Counter(votes).most_common(1)[0][1]/k\n",
    "    return vote_res,confidence"
   ]
  },
  {
   "cell_type": "code",
   "execution_count": 6,
   "metadata": {},
   "outputs": [
    {
     "name": "stdout",
     "output_type": "stream",
     "text": [
      "r\n",
      "1.0\n"
     ]
    },
    {
     "data": {
      "image/png": "[encoded data removed]",
      "text/plain": [
       "<Figure size 432x288 with 1 Axes>"
      ]
     },
     "metadata": {},
     "output_type": "display_data"
    }
   ],
   "source": [
    "result,confidence=k_N_N(dataset,new_feature,k=3)\n",
    "print(result)\n",
    "print(confidence)\n",
    "[[ plt.scatter(ii[0],ii[1],s=100,color=i)  for ii in dataset[i] ] for i in dataset]\n",
    "plt.scatter(new_feature[0],new_feature[1],color=result)\n",
    "plt.show()"
   ]
  },
  {
   "cell_type": "code",
   "execution_count": 7,
   "metadata": {},
   "outputs": [
    {
     "name": "stdout",
     "output_type": "stream",
     "text": [
      "0.9752165941781631\n"
     ]
    }
   ],
   "source": [
    "accuracies=[]\n",
    "for i in range(25):\n",
    "    df=pd.read_csv('breast-cancer-wisconsin.data.txt')\n",
    "    df.replace('?',-99999,inplace=True)\n",
    "    df.drop(['id'],1,inplace=True)\n",
    "    full_data=df.astype(float).values.tolist()\n",
    "    random.shuffle(full_data)\n",
    "\n",
    "    test_size=0.2\n",
    "    train_set={2:[],4:[]}\n",
    "    test_set={2:[],4:[]}\n",
    "    train_data=full_data[:-int(test_size*len(full_data))]\n",
    "    test_data=full_data[-int(test_size*len(full_data)):]\n",
    "\n",
    "    for i in train_data:\n",
    "        train_set[i[-1]].append(i[:-1])\n",
    "    for i in test_data:\n",
    "        test_set[i[-1]].append(i[:-1])\n",
    "\n",
    "    correct=0\n",
    "    total=0\n",
    "\n",
    "    for group in test_set:\n",
    "        for data in test_set[group]:\n",
    "            vote,confidence=k_N_N(train_set,data,k=5)\n",
    "            if group==vote:\n",
    "                correct+=1\n",
    "            #else :\n",
    "             #   print(confidence)\n",
    "            total+=1\n",
    "        #print('accuracy :',correct/total)\n",
    "        accuracies.append(correct/total)\n",
    "\n",
    "print(sum(accuracies)/len(accuracies))"
   ]
  },
  {
   "cell_type": "code",
   "execution_count": null,
   "metadata": {},
   "outputs": [],
   "source": []
  }
 ],
 "metadata": {
  "kernelspec": {
   "display_name": "Python 3",
   "language": "python",
   "name": "python3"
  },
  "language_info": {
   "codemirror_mode": {
    "name": "ipython",
    "version": 3
   },
   "file_extension": ".py",
   "mimetype": "text/x-python",
   "name": "python",
   "nbconvert_exporter": "python",
   "pygments_lexer": "ipython3",
   "version": "3.6.5"
  }
 },
 "nbformat": 4,
 "nbformat_minor": 2
}
