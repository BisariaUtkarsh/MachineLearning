{
 "cells": [
  {
   "cell_type": "code",
   "execution_count": 2,
   "metadata": {},
   "outputs": [],
   "source": [
    "import numpy as np\n",
    "import pandas as pd"
   ]
  },
  {
   "cell_type": "code",
   "execution_count": 5,
   "metadata": {},
   "outputs": [],
   "source": [
    "from sklearn import preprocessing ,cross_validation,neighbors"
   ]
  },
  {
   "cell_type": "code",
   "execution_count": 4,
   "metadata": {},
   "outputs": [
    {
     "name": "stdout",
     "output_type": "stream",
     "text": [
      "0.9734285714285713\n"
     ]
    }
   ],
   "source": [
    "accuracies=[]\n",
    "for i in range(25):\n",
    "    df=pd.read_csv('breast-cancer-wisconsin.data.txt')\n",
    "    df.replace('?',-99999,inplace=True)\n",
    "    df.drop(['id'],axis=1,inplace=True)\n",
    "    X=np.array(df.drop(['class'],1))\n",
    "    y=np.array(df['class'])\n",
    "    X_train ,X_test,y_train,y_test=cross_validation.train_test_split(X,y,test_size=0.2) \n",
    "    clf=neighbors.KNeighborsClassifier()\n",
    "    clf.fit(X_train,y_train)\n",
    "    accuracy=clf.score(X_test,y_test)\n",
    "    accuracies.append(accuracy)\n",
    "print(sum(accuracies)/len(accuracies))"
   ]
  },
  {
   "cell_type": "code",
   "execution_count": 6,
   "metadata": {},
   "outputs": [
    {
     "name": "stdout",
     "output_type": "stream",
     "text": [
      "[2 2]\n"
     ]
    }
   ],
   "source": [
    "eg=np.array([[4,2,1,1,1,2,3,2,1],[4,2,1,2,1,2,3,2,1]])\n",
    "eg=eg.reshape(len(eg),-1)\n",
    "prediction=clf.predict(eg)\n",
    "print(prediction)"
   ]
  },
  {
   "cell_type": "code",
   "execution_count": null,
   "metadata": {},
   "outputs": [],
   "source": []
  }
 ],
 "metadata": {
  "kernelspec": {
   "display_name": "Python 3",
   "language": "python",
   "name": "python3"
  },
  "language_info": {
   "codemirror_mode": {
    "name": "ipython",
    "version": 3
   },
   "file_extension": ".py",
   "mimetype": "text/x-python",
   "name": "python",
   "nbconvert_exporter": "python",
   "pygments_lexer": "ipython3",
   "version": "3.6.5"
  }
 },
 "nbformat": 4,
 "nbformat_minor": 2
}
